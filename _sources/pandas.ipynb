{
 "cells": [
  {
   "cell_type": "markdown",
   "metadata": {},
   "source": [
    "(pd)=\n",
    "```{raw} html\n",
    "<div id=\"qe-notebook-header\" align=\"right\" style=\"text-align:right;\">\n",
    "        <a href=\"https://quantecon.org/\" title=\"quantecon.org\">\n",
    "                <img style=\"width:250px;display:inline;\" width=\"250px\" src=\"https://assets.quantecon.org/img/qe-menubar-logo.svg\" alt=\"QuantEcon\">\n",
    "        </a>\n",
    "</div>\n",
    "```\n",
    "\n",
    "# {index}`Pandas <single: Pandas>`\n",
    "\n",
    "```{index} single: Python; Pandas\n",
    "```\n",
    "\n",
    "```{contents} Contents\n",
    ":depth: 2\n",
    "```\n",
    "\n",
    "In addition to what’s in Anaconda, this lecture will need the following libraries:"
   ]
  },
  {
   "cell_type": "code",
   "execution_count": 1,
   "metadata": {
    "tags": [
     "hide-output"
    ]
   },
   "outputs": [
    {
     "name": "stdout",
     "output_type": "stream",
     "text": [
      "Collecting pandas-datareader\r\n"
     ]
    },
    {
     "name": "stdout",
     "output_type": "stream",
     "text": [
      "  Downloading pandas_datareader-0.9.0-py3-none-any.whl (107 kB)\r\n",
      "\u001b[?25l\r",
      "\u001b[K     |███                             | 10 kB 25.8 MB/s eta 0:00:01\r",
      "\u001b[K     |██████                          | 20 kB 3.1 MB/s eta 0:00:01\r",
      "\u001b[K     |█████████▏                      | 30 kB 4.0 MB/s eta 0:00:01\r",
      "\u001b[K     |████████████▏                   | 40 kB 3.0 MB/s eta 0:00:01\r",
      "\u001b[K     |███████████████▎                | 51 kB 3.6 MB/s eta 0:00:01\r",
      "\u001b[K     |██████████████████▎             | 61 kB 4.1 MB/s eta 0:00:01\r",
      "\u001b[K     |█████████████████████▍          | 71 kB 4.5 MB/s eta 0:00:01\r",
      "\u001b[K     |████████████████████████▍       | 81 kB 4.8 MB/s eta 0:00:01\r",
      "\u001b[K     |███████████████████████████▍    | 92 kB 5.2 MB/s eta 0:00:01\r",
      "\u001b[K     |██████████████████████████████▌ | 102 kB 4.9 MB/s eta 0:00:01\r",
      "\u001b[K     |████████████████████████████████| 107 kB 4.9 MB/s \r\n"
     ]
    },
    {
     "name": "stdout",
     "output_type": "stream",
     "text": [
      "\u001b[?25hRequirement already satisfied, skipping upgrade: requests>=2.19.0 in /usr/share/miniconda3/envs/qe-lectures/lib/python3.8/site-packages (from pandas-datareader) (2.24.0)\r\n"
     ]
    },
    {
     "name": "stdout",
     "output_type": "stream",
     "text": [
      "Requirement already satisfied, skipping upgrade: pandas>=0.23 in /usr/share/miniconda3/envs/qe-lectures/lib/python3.8/site-packages (from pandas-datareader) (1.0.5)\r\n",
      "Requirement already satisfied, skipping upgrade: lxml in /usr/share/miniconda3/envs/qe-lectures/lib/python3.8/site-packages (from pandas-datareader) (4.5.2)\r\n",
      "Requirement already satisfied, skipping upgrade: idna<3,>=2.5 in /usr/share/miniconda3/envs/qe-lectures/lib/python3.8/site-packages (from requests>=2.19.0->pandas-datareader) (2.10)\r\n",
      "Requirement already satisfied, skipping upgrade: urllib3!=1.25.0,!=1.25.1,<1.26,>=1.21.1 in /usr/share/miniconda3/envs/qe-lectures/lib/python3.8/site-packages (from requests>=2.19.0->pandas-datareader) (1.25.9)\r\n",
      "Requirement already satisfied, skipping upgrade: certifi>=2017.4.17 in /usr/share/miniconda3/envs/qe-lectures/lib/python3.8/site-packages (from requests>=2.19.0->pandas-datareader) (2020.6.20)\r\n",
      "Requirement already satisfied, skipping upgrade: chardet<4,>=3.0.2 in /usr/share/miniconda3/envs/qe-lectures/lib/python3.8/site-packages (from requests>=2.19.0->pandas-datareader) (3.0.4)\r\n",
      "Requirement already satisfied, skipping upgrade: python-dateutil>=2.6.1 in /usr/share/miniconda3/envs/qe-lectures/lib/python3.8/site-packages (from pandas>=0.23->pandas-datareader) (2.8.1)\r\n",
      "Requirement already satisfied, skipping upgrade: numpy>=1.13.3 in /usr/share/miniconda3/envs/qe-lectures/lib/python3.8/site-packages (from pandas>=0.23->pandas-datareader) (1.18.5)\r\n",
      "Requirement already satisfied, skipping upgrade: pytz>=2017.2 in /usr/share/miniconda3/envs/qe-lectures/lib/python3.8/site-packages (from pandas>=0.23->pandas-datareader) (2020.1)\r\n",
      "Requirement already satisfied, skipping upgrade: six>=1.5 in /usr/share/miniconda3/envs/qe-lectures/lib/python3.8/site-packages (from python-dateutil>=2.6.1->pandas>=0.23->pandas-datareader) (1.15.0)\r\n"
     ]
    },
    {
     "name": "stdout",
     "output_type": "stream",
     "text": [
      "Installing collected packages: pandas-datareader\r\n"
     ]
    },
    {
     "name": "stdout",
     "output_type": "stream",
     "text": [
      "Successfully installed pandas-datareader-0.9.0\r\n"
     ]
    }
   ],
   "source": [
    "!pip install --upgrade pandas-datareader"
   ]
  },
  {
   "cell_type": "markdown",
   "metadata": {},
   "source": [
    "## Overview\n",
    "\n",
    "[Pandas](http://pandas.pydata.org/) is a package of fast, efficient data analysis tools for Python.\n",
    "\n",
    "Its popularity has surged in recent years, coincident with the rise\n",
    "of fields such as data science and machine learning.\n",
    "\n",
    "Here's a popularity comparison over time against STATA, SAS, and [dplyr](https://dplyr.tidyverse.org/) courtesy of Stack Overflow Trends\n",
    "\n",
    "```{figure} /_static/lecture_specific/pandas/pandas_vs_rest.png\n",
    ":scale: 30\n",
    "```\n",
    "\n",
    "Just as [NumPy](http://www.numpy.org/) provides the basic array data type plus core array operations, pandas\n",
    "\n",
    "1. defines fundamental structures for working with data and\n",
    "1. endows them with methods that facilitate operations such as\n",
    "    * reading in data\n",
    "    * adjusting indices\n",
    "    * working with dates and time series\n",
    "    * sorting, grouping, re-ordering and general data munging [^mung]\n",
    "    * dealing with missing values, etc., etc.\n",
    "\n",
    "More sophisticated statistical functionality is left to other packages, such\n",
    "as [statsmodels](http://www.statsmodels.org/) and [scikit-learn](http://scikit-learn.org/), which are built on top of pandas.\n",
    "\n",
    "This lecture will provide a basic introduction to pandas.\n",
    "\n",
    "Throughout the lecture, we will assume that the following imports have taken\n",
    "place"
   ]
  },
  {
   "cell_type": "code",
   "execution_count": 2,
   "metadata": {},
   "outputs": [],
   "source": [
    "import pandas as pd\n",
    "import numpy as np\n",
    "import matplotlib.pyplot as plt\n",
    "plt.rcParams[\"figure.figsize\"] = [10,8]  # Set default figure size\n",
    "%matplotlib inline\n",
    "import requests"
   ]
  },
  {
   "cell_type": "markdown",
   "metadata": {},
   "source": [
    "## Series\n",
    "\n",
    "```{index} single: Pandas; Series\n",
    "```\n",
    "\n",
    "Two important data types defined by pandas are  `Series` and `DataFrame`.\n",
    "\n",
    "You can think of a `Series` as a \"column\" of data, such as a collection of observations on a single variable.\n",
    "\n",
    "A `DataFrame` is an object for storing related columns of data.\n",
    "\n",
    "Let's start with Series"
   ]
  },
  {
   "cell_type": "code",
   "execution_count": 3,
   "metadata": {},
   "outputs": [
    {
     "data": {
      "text/plain": [
       "0    1.027274\n",
       "1   -0.474548\n",
       "2   -0.025387\n",
       "3   -1.548219\n",
       "Name: daily returns, dtype: float64"
      ]
     },
     "execution_count": 3,
     "metadata": {},
     "output_type": "execute_result"
    }
   ],
   "source": [
    "s = pd.Series(np.random.randn(4), name='daily returns')\n",
    "s"
   ]
  },
  {
   "cell_type": "markdown",
   "metadata": {},
   "source": [
    "Here you can imagine the indices `0, 1, 2, 3` as indexing four listed\n",
    "companies, and the values being daily returns on their shares.\n",
    "\n",
    "Pandas `Series` are built on top of NumPy arrays and support many similar\n",
    "operations"
   ]
  },
  {
   "cell_type": "code",
   "execution_count": 4,
   "metadata": {},
   "outputs": [
    {
     "data": {
      "text/plain": [
       "0    102.727354\n",
       "1    -47.454750\n",
       "2     -2.538664\n",
       "3   -154.821866\n",
       "Name: daily returns, dtype: float64"
      ]
     },
     "execution_count": 4,
     "metadata": {},
     "output_type": "execute_result"
    }
   ],
   "source": [
    "s * 100"
   ]
  },
  {
   "cell_type": "code",
   "execution_count": 5,
   "metadata": {},
   "outputs": [
    {
     "data": {
      "text/plain": [
       "0    1.027274\n",
       "1    0.474548\n",
       "2    0.025387\n",
       "3    1.548219\n",
       "Name: daily returns, dtype: float64"
      ]
     },
     "execution_count": 5,
     "metadata": {},
     "output_type": "execute_result"
    }
   ],
   "source": [
    "np.abs(s)"
   ]
  },
  {
   "cell_type": "markdown",
   "metadata": {},
   "source": [
    "But `Series` provide more than NumPy arrays.\n",
    "\n",
    "Not only do they have some additional (statistically oriented) methods"
   ]
  },
  {
   "cell_type": "code",
   "execution_count": 6,
   "metadata": {},
   "outputs": [
    {
     "data": {
      "text/plain": [
       "count    4.000000\n",
       "mean    -0.255220\n",
       "std      1.067327\n",
       "min     -1.548219\n",
       "25%     -0.742965\n",
       "50%     -0.249967\n",
       "75%      0.237778\n",
       "max      1.027274\n",
       "Name: daily returns, dtype: float64"
      ]
     },
     "execution_count": 6,
     "metadata": {},
     "output_type": "execute_result"
    }
   ],
   "source": [
    "s.describe()"
   ]
  },
  {
   "cell_type": "markdown",
   "metadata": {},
   "source": [
    "But their indices are more flexible"
   ]
  },
  {
   "cell_type": "code",
   "execution_count": 7,
   "metadata": {},
   "outputs": [
    {
     "data": {
      "text/plain": [
       "AMZN    1.027274\n",
       "AAPL   -0.474548\n",
       "MSFT   -0.025387\n",
       "GOOG   -1.548219\n",
       "Name: daily returns, dtype: float64"
      ]
     },
     "execution_count": 7,
     "metadata": {},
     "output_type": "execute_result"
    }
   ],
   "source": [
    "s.index = ['AMZN', 'AAPL', 'MSFT', 'GOOG']\n",
    "s"
   ]
  },
  {
   "cell_type": "markdown",
   "metadata": {},
   "source": [
    "Viewed in this way, `Series` are like fast, efficient Python dictionaries\n",
    "(with the restriction that the items in the dictionary all have the same\n",
    "type---in this case, floats).\n",
    "\n",
    "In fact, you can use much of the same syntax as Python dictionaries"
   ]
  },
  {
   "cell_type": "code",
   "execution_count": 8,
   "metadata": {},
   "outputs": [
    {
     "data": {
      "text/plain": [
       "1.0272735390401464"
      ]
     },
     "execution_count": 8,
     "metadata": {},
     "output_type": "execute_result"
    }
   ],
   "source": [
    "s['AMZN']"
   ]
  },
  {
   "cell_type": "code",
   "execution_count": 9,
   "metadata": {},
   "outputs": [
    {
     "data": {
      "text/plain": [
       "AMZN    0.000000\n",
       "AAPL   -0.474548\n",
       "MSFT   -0.025387\n",
       "GOOG   -1.548219\n",
       "Name: daily returns, dtype: float64"
      ]
     },
     "execution_count": 9,
     "metadata": {},
     "output_type": "execute_result"
    }
   ],
   "source": [
    "s['AMZN'] = 0\n",
    "s"
   ]
  },
  {
   "cell_type": "code",
   "execution_count": 10,
   "metadata": {},
   "outputs": [
    {
     "data": {
      "text/plain": [
       "True"
      ]
     },
     "execution_count": 10,
     "metadata": {},
     "output_type": "execute_result"
    }
   ],
   "source": [
    "'AAPL' in s"
   ]
  },
  {
   "cell_type": "markdown",
   "metadata": {},
   "source": [
    "## DataFrames\n",
    "\n",
    "```{index} single: Pandas; DataFrames\n",
    "```\n",
    "\n",
    "While a `Series` is a single column of data, a `DataFrame` is several columns, one for each variable.\n",
    "\n",
    "In essence, a `DataFrame` in pandas is analogous to a (highly optimized) Excel spreadsheet.\n",
    "\n",
    "Thus, it is a powerful tool for representing and analyzing data that are naturally organized  into rows and columns, often with  descriptive indexes for individual rows and individual columns.\n",
    "\n",
    "```{only} html\n",
    "Let's look at an example that reads data from the CSV file `pandas/data/test_pwt.csv` that can be downloaded\n",
    "<a href=_static/lecture_specific/pandas/data/test_pwt.csv download>here</a>.\n",
    "```\n",
    "\n",
    "```{only} latex\n",
    "Let's look at an example that reads data from the CSV file `pandas/data/test_pwt.csv` and can be downloaded\n",
    "[here](https://lectures.quantecon.org/_downloads/pandas/data/test_pwt.csv).\n",
    "```\n",
    "\n",
    "Here's the content of `test_pwt.csv`\n",
    "\n",
    "```{code-block} none\n",
    "\"country\",\"country isocode\",\"year\",\"POP\",\"XRAT\",\"tcgdp\",\"cc\",\"cg\"\n",
    "\"Argentina\",\"ARG\",\"2000\",\"37335.653\",\"0.9995\",\"295072.21869\",\"75.716805379\",\"5.5788042896\"\n",
    "\"Australia\",\"AUS\",\"2000\",\"19053.186\",\"1.72483\",\"541804.6521\",\"67.759025993\",\"6.7200975332\"\n",
    "\"India\",\"IND\",\"2000\",\"1006300.297\",\"44.9416\",\"1728144.3748\",\"64.575551328\",\"14.072205773\"\n",
    "\"Israel\",\"ISR\",\"2000\",\"6114.57\",\"4.07733\",\"129253.89423\",\"64.436450847\",\"10.266688415\"\n",
    "\"Malawi\",\"MWI\",\"2000\",\"11801.505\",\"59.543808333\",\"5026.2217836\",\"74.707624181\",\"11.658954494\"\n",
    "\"South Africa\",\"ZAF\",\"2000\",\"45064.098\",\"6.93983\",\"227242.36949\",\"72.718710427\",\"5.7265463933\"\n",
    "\"United States\",\"USA\",\"2000\",\"282171.957\",\"1\",\"9898700\",\"72.347054303\",\"6.0324539789\"\n",
    "\"Uruguay\",\"URY\",\"2000\",\"3219.793\",\"12.099591667\",\"25255.961693\",\"78.978740282\",\"5.108067988\"\n",
    "```\n",
    "\n",
    "Supposing you have this data saved as `test_pwt.csv` in the present working directory (type `%pwd` in Jupyter to see what this is), it can be read in as follows:"
   ]
  },
  {
   "cell_type": "code",
   "execution_count": 11,
   "metadata": {},
   "outputs": [
    {
     "data": {
      "text/plain": [
       "pandas.core.frame.DataFrame"
      ]
     },
     "execution_count": 11,
     "metadata": {},
     "output_type": "execute_result"
    }
   ],
   "source": [
    "df = pd.read_csv('https://raw.githubusercontent.com/QuantEcon/lecture-python-programming/master/source/_static/lecture_specific/pandas/data/test_pwt.csv')\n",
    "type(df)"
   ]
  },
  {
   "cell_type": "code",
   "execution_count": 12,
   "metadata": {},
   "outputs": [
    {
     "data": {
      "text/html": [
       "<div>\n",
       "<style scoped>\n",
       "    .dataframe tbody tr th:only-of-type {\n",
       "        vertical-align: middle;\n",
       "    }\n",
       "\n",
       "    .dataframe tbody tr th {\n",
       "        vertical-align: top;\n",
       "    }\n",
       "\n",
       "    .dataframe thead th {\n",
       "        text-align: right;\n",
       "    }\n",
       "</style>\n",
       "<table border=\"1\" class=\"dataframe\">\n",
       "  <thead>\n",
       "    <tr style=\"text-align: right;\">\n",
       "      <th></th>\n",
       "      <th>country</th>\n",
       "      <th>country isocode</th>\n",
       "      <th>year</th>\n",
       "      <th>POP</th>\n",
       "      <th>XRAT</th>\n",
       "      <th>tcgdp</th>\n",
       "      <th>cc</th>\n",
       "      <th>cg</th>\n",
       "    </tr>\n",
       "  </thead>\n",
       "  <tbody>\n",
       "    <tr>\n",
       "      <th>0</th>\n",
       "      <td>Argentina</td>\n",
       "      <td>ARG</td>\n",
       "      <td>2000</td>\n",
       "      <td>37335.653</td>\n",
       "      <td>0.999500</td>\n",
       "      <td>2.950722e+05</td>\n",
       "      <td>75.716805</td>\n",
       "      <td>5.578804</td>\n",
       "    </tr>\n",
       "    <tr>\n",
       "      <th>1</th>\n",
       "      <td>Australia</td>\n",
       "      <td>AUS</td>\n",
       "      <td>2000</td>\n",
       "      <td>19053.186</td>\n",
       "      <td>1.724830</td>\n",
       "      <td>5.418047e+05</td>\n",
       "      <td>67.759026</td>\n",
       "      <td>6.720098</td>\n",
       "    </tr>\n",
       "    <tr>\n",
       "      <th>2</th>\n",
       "      <td>India</td>\n",
       "      <td>IND</td>\n",
       "      <td>2000</td>\n",
       "      <td>1006300.297</td>\n",
       "      <td>44.941600</td>\n",
       "      <td>1.728144e+06</td>\n",
       "      <td>64.575551</td>\n",
       "      <td>14.072206</td>\n",
       "    </tr>\n",
       "    <tr>\n",
       "      <th>3</th>\n",
       "      <td>Israel</td>\n",
       "      <td>ISR</td>\n",
       "      <td>2000</td>\n",
       "      <td>6114.570</td>\n",
       "      <td>4.077330</td>\n",
       "      <td>1.292539e+05</td>\n",
       "      <td>64.436451</td>\n",
       "      <td>10.266688</td>\n",
       "    </tr>\n",
       "    <tr>\n",
       "      <th>4</th>\n",
       "      <td>Malawi</td>\n",
       "      <td>MWI</td>\n",
       "      <td>2000</td>\n",
       "      <td>11801.505</td>\n",
       "      <td>59.543808</td>\n",
       "      <td>5.026222e+03</td>\n",
       "      <td>74.707624</td>\n",
       "      <td>11.658954</td>\n",
       "    </tr>\n",
       "    <tr>\n",
       "      <th>5</th>\n",
       "      <td>South Africa</td>\n",
       "      <td>ZAF</td>\n",
       "      <td>2000</td>\n",
       "      <td>45064.098</td>\n",
       "      <td>6.939830</td>\n",
       "      <td>2.272424e+05</td>\n",
       "      <td>72.718710</td>\n",
       "      <td>5.726546</td>\n",
       "    </tr>\n",
       "    <tr>\n",
       "      <th>6</th>\n",
       "      <td>United States</td>\n",
       "      <td>USA</td>\n",
       "      <td>2000</td>\n",
       "      <td>282171.957</td>\n",
       "      <td>1.000000</td>\n",
       "      <td>9.898700e+06</td>\n",
       "      <td>72.347054</td>\n",
       "      <td>6.032454</td>\n",
       "    </tr>\n",
       "    <tr>\n",
       "      <th>7</th>\n",
       "      <td>Uruguay</td>\n",
       "      <td>URY</td>\n",
       "      <td>2000</td>\n",
       "      <td>3219.793</td>\n",
       "      <td>12.099592</td>\n",
       "      <td>2.525596e+04</td>\n",
       "      <td>78.978740</td>\n",
       "      <td>5.108068</td>\n",
       "    </tr>\n",
       "  </tbody>\n",
       "</table>\n",
       "</div>"
      ],
      "text/plain": [
       "         country country isocode  year          POP       XRAT         tcgdp  \\\n",
       "0      Argentina             ARG  2000    37335.653   0.999500  2.950722e+05   \n",
       "1      Australia             AUS  2000    19053.186   1.724830  5.418047e+05   \n",
       "2          India             IND  2000  1006300.297  44.941600  1.728144e+06   \n",
       "3         Israel             ISR  2000     6114.570   4.077330  1.292539e+05   \n",
       "4         Malawi             MWI  2000    11801.505  59.543808  5.026222e+03   \n",
       "5   South Africa             ZAF  2000    45064.098   6.939830  2.272424e+05   \n",
       "6  United States             USA  2000   282171.957   1.000000  9.898700e+06   \n",
       "7        Uruguay             URY  2000     3219.793  12.099592  2.525596e+04   \n",
       "\n",
       "          cc         cg  \n",
       "0  75.716805   5.578804  \n",
       "1  67.759026   6.720098  \n",
       "2  64.575551  14.072206  \n",
       "3  64.436451  10.266688  \n",
       "4  74.707624  11.658954  \n",
       "5  72.718710   5.726546  \n",
       "6  72.347054   6.032454  \n",
       "7  78.978740   5.108068  "
      ]
     },
     "execution_count": 12,
     "metadata": {},
     "output_type": "execute_result"
    }
   ],
   "source": [
    "df"
   ]
  },
  {
   "cell_type": "markdown",
   "metadata": {},
   "source": [
    "We can select particular rows using standard Python array slicing notation"
   ]
  },
  {
   "cell_type": "code",
   "execution_count": 13,
   "metadata": {},
   "outputs": [
    {
     "data": {
      "text/html": [
       "<div>\n",
       "<style scoped>\n",
       "    .dataframe tbody tr th:only-of-type {\n",
       "        vertical-align: middle;\n",
       "    }\n",
       "\n",
       "    .dataframe tbody tr th {\n",
       "        vertical-align: top;\n",
       "    }\n",
       "\n",
       "    .dataframe thead th {\n",
       "        text-align: right;\n",
       "    }\n",
       "</style>\n",
       "<table border=\"1\" class=\"dataframe\">\n",
       "  <thead>\n",
       "    <tr style=\"text-align: right;\">\n",
       "      <th></th>\n",
       "      <th>country</th>\n",
       "      <th>country isocode</th>\n",
       "      <th>year</th>\n",
       "      <th>POP</th>\n",
       "      <th>XRAT</th>\n",
       "      <th>tcgdp</th>\n",
       "      <th>cc</th>\n",
       "      <th>cg</th>\n",
       "    </tr>\n",
       "  </thead>\n",
       "  <tbody>\n",
       "    <tr>\n",
       "      <th>2</th>\n",
       "      <td>India</td>\n",
       "      <td>IND</td>\n",
       "      <td>2000</td>\n",
       "      <td>1006300.297</td>\n",
       "      <td>44.941600</td>\n",
       "      <td>1.728144e+06</td>\n",
       "      <td>64.575551</td>\n",
       "      <td>14.072206</td>\n",
       "    </tr>\n",
       "    <tr>\n",
       "      <th>3</th>\n",
       "      <td>Israel</td>\n",
       "      <td>ISR</td>\n",
       "      <td>2000</td>\n",
       "      <td>6114.570</td>\n",
       "      <td>4.077330</td>\n",
       "      <td>1.292539e+05</td>\n",
       "      <td>64.436451</td>\n",
       "      <td>10.266688</td>\n",
       "    </tr>\n",
       "    <tr>\n",
       "      <th>4</th>\n",
       "      <td>Malawi</td>\n",
       "      <td>MWI</td>\n",
       "      <td>2000</td>\n",
       "      <td>11801.505</td>\n",
       "      <td>59.543808</td>\n",
       "      <td>5.026222e+03</td>\n",
       "      <td>74.707624</td>\n",
       "      <td>11.658954</td>\n",
       "    </tr>\n",
       "  </tbody>\n",
       "</table>\n",
       "</div>"
      ],
      "text/plain": [
       "  country country isocode  year          POP       XRAT         tcgdp  \\\n",
       "2   India             IND  2000  1006300.297  44.941600  1.728144e+06   \n",
       "3  Israel             ISR  2000     6114.570   4.077330  1.292539e+05   \n",
       "4  Malawi             MWI  2000    11801.505  59.543808  5.026222e+03   \n",
       "\n",
       "          cc         cg  \n",
       "2  64.575551  14.072206  \n",
       "3  64.436451  10.266688  \n",
       "4  74.707624  11.658954  "
      ]
     },
     "execution_count": 13,
     "metadata": {},
     "output_type": "execute_result"
    }
   ],
   "source": [
    "df[2:5]"
   ]
  },
  {
   "cell_type": "markdown",
   "metadata": {},
   "source": [
    "To select columns, we can pass a list containing the names of the desired columns represented as strings"
   ]
  },
  {
   "cell_type": "code",
   "execution_count": 14,
   "metadata": {},
   "outputs": [
    {
     "data": {
      "text/html": [
       "<div>\n",
       "<style scoped>\n",
       "    .dataframe tbody tr th:only-of-type {\n",
       "        vertical-align: middle;\n",
       "    }\n",
       "\n",
       "    .dataframe tbody tr th {\n",
       "        vertical-align: top;\n",
       "    }\n",
       "\n",
       "    .dataframe thead th {\n",
       "        text-align: right;\n",
       "    }\n",
       "</style>\n",
       "<table border=\"1\" class=\"dataframe\">\n",
       "  <thead>\n",
       "    <tr style=\"text-align: right;\">\n",
       "      <th></th>\n",
       "      <th>country</th>\n",
       "      <th>tcgdp</th>\n",
       "    </tr>\n",
       "  </thead>\n",
       "  <tbody>\n",
       "    <tr>\n",
       "      <th>0</th>\n",
       "      <td>Argentina</td>\n",
       "      <td>2.950722e+05</td>\n",
       "    </tr>\n",
       "    <tr>\n",
       "      <th>1</th>\n",
       "      <td>Australia</td>\n",
       "      <td>5.418047e+05</td>\n",
       "    </tr>\n",
       "    <tr>\n",
       "      <th>2</th>\n",
       "      <td>India</td>\n",
       "      <td>1.728144e+06</td>\n",
       "    </tr>\n",
       "    <tr>\n",
       "      <th>3</th>\n",
       "      <td>Israel</td>\n",
       "      <td>1.292539e+05</td>\n",
       "    </tr>\n",
       "    <tr>\n",
       "      <th>4</th>\n",
       "      <td>Malawi</td>\n",
       "      <td>5.026222e+03</td>\n",
       "    </tr>\n",
       "    <tr>\n",
       "      <th>5</th>\n",
       "      <td>South Africa</td>\n",
       "      <td>2.272424e+05</td>\n",
       "    </tr>\n",
       "    <tr>\n",
       "      <th>6</th>\n",
       "      <td>United States</td>\n",
       "      <td>9.898700e+06</td>\n",
       "    </tr>\n",
       "    <tr>\n",
       "      <th>7</th>\n",
       "      <td>Uruguay</td>\n",
       "      <td>2.525596e+04</td>\n",
       "    </tr>\n",
       "  </tbody>\n",
       "</table>\n",
       "</div>"
      ],
      "text/plain": [
       "         country         tcgdp\n",
       "0      Argentina  2.950722e+05\n",
       "1      Australia  5.418047e+05\n",
       "2          India  1.728144e+06\n",
       "3         Israel  1.292539e+05\n",
       "4         Malawi  5.026222e+03\n",
       "5   South Africa  2.272424e+05\n",
       "6  United States  9.898700e+06\n",
       "7        Uruguay  2.525596e+04"
      ]
     },
     "execution_count": 14,
     "metadata": {},
     "output_type": "execute_result"
    }
   ],
   "source": [
    "df[['country', 'tcgdp']]"
   ]
  },
  {
   "cell_type": "markdown",
   "metadata": {},
   "source": [
    "To select both rows and columns using integers, the `iloc` attribute should be used with the format `.iloc[rows, columns]`"
   ]
  },
  {
   "cell_type": "code",
   "execution_count": 15,
   "metadata": {},
   "outputs": [
    {
     "data": {
      "text/html": [
       "<div>\n",
       "<style scoped>\n",
       "    .dataframe tbody tr th:only-of-type {\n",
       "        vertical-align: middle;\n",
       "    }\n",
       "\n",
       "    .dataframe tbody tr th {\n",
       "        vertical-align: top;\n",
       "    }\n",
       "\n",
       "    .dataframe thead th {\n",
       "        text-align: right;\n",
       "    }\n",
       "</style>\n",
       "<table border=\"1\" class=\"dataframe\">\n",
       "  <thead>\n",
       "    <tr style=\"text-align: right;\">\n",
       "      <th></th>\n",
       "      <th>country</th>\n",
       "      <th>country isocode</th>\n",
       "      <th>year</th>\n",
       "      <th>POP</th>\n",
       "    </tr>\n",
       "  </thead>\n",
       "  <tbody>\n",
       "    <tr>\n",
       "      <th>2</th>\n",
       "      <td>India</td>\n",
       "      <td>IND</td>\n",
       "      <td>2000</td>\n",
       "      <td>1006300.297</td>\n",
       "    </tr>\n",
       "    <tr>\n",
       "      <th>3</th>\n",
       "      <td>Israel</td>\n",
       "      <td>ISR</td>\n",
       "      <td>2000</td>\n",
       "      <td>6114.570</td>\n",
       "    </tr>\n",
       "    <tr>\n",
       "      <th>4</th>\n",
       "      <td>Malawi</td>\n",
       "      <td>MWI</td>\n",
       "      <td>2000</td>\n",
       "      <td>11801.505</td>\n",
       "    </tr>\n",
       "  </tbody>\n",
       "</table>\n",
       "</div>"
      ],
      "text/plain": [
       "  country country isocode  year          POP\n",
       "2   India             IND  2000  1006300.297\n",
       "3  Israel             ISR  2000     6114.570\n",
       "4  Malawi             MWI  2000    11801.505"
      ]
     },
     "execution_count": 15,
     "metadata": {},
     "output_type": "execute_result"
    }
   ],
   "source": [
    "df.iloc[2:5, 0:4]"
   ]
  },
  {
   "cell_type": "markdown",
   "metadata": {},
   "source": [
    "To select rows and columns using a mixture of integers and labels, the `loc` attribute can be used in a similar way"
   ]
  },
  {
   "cell_type": "code",
   "execution_count": 16,
   "metadata": {},
   "outputs": [
    {
     "data": {
      "text/html": [
       "<div>\n",
       "<style scoped>\n",
       "    .dataframe tbody tr th:only-of-type {\n",
       "        vertical-align: middle;\n",
       "    }\n",
       "\n",
       "    .dataframe tbody tr th {\n",
       "        vertical-align: top;\n",
       "    }\n",
       "\n",
       "    .dataframe thead th {\n",
       "        text-align: right;\n",
       "    }\n",
       "</style>\n",
       "<table border=\"1\" class=\"dataframe\">\n",
       "  <thead>\n",
       "    <tr style=\"text-align: right;\">\n",
       "      <th></th>\n",
       "      <th>country</th>\n",
       "      <th>tcgdp</th>\n",
       "    </tr>\n",
       "  </thead>\n",
       "  <tbody>\n",
       "    <tr>\n",
       "      <th>2</th>\n",
       "      <td>India</td>\n",
       "      <td>1.728144e+06</td>\n",
       "    </tr>\n",
       "    <tr>\n",
       "      <th>3</th>\n",
       "      <td>Israel</td>\n",
       "      <td>1.292539e+05</td>\n",
       "    </tr>\n",
       "    <tr>\n",
       "      <th>4</th>\n",
       "      <td>Malawi</td>\n",
       "      <td>5.026222e+03</td>\n",
       "    </tr>\n",
       "  </tbody>\n",
       "</table>\n",
       "</div>"
      ],
      "text/plain": [
       "  country         tcgdp\n",
       "2   India  1.728144e+06\n",
       "3  Israel  1.292539e+05\n",
       "4  Malawi  5.026222e+03"
      ]
     },
     "execution_count": 16,
     "metadata": {},
     "output_type": "execute_result"
    }
   ],
   "source": [
    "df.loc[df.index[2:5], ['country', 'tcgdp']]"
   ]
  },
  {
   "cell_type": "markdown",
   "metadata": {},
   "source": [
    "Let's imagine that we're only interested in population (`POP`) and total GDP (`tcgdp`).\n",
    "\n",
    "One way to strip the data frame `df` down to only these variables is to overwrite the dataframe using the selection method described above"
   ]
  },
  {
   "cell_type": "code",
   "execution_count": 17,
   "metadata": {},
   "outputs": [
    {
     "data": {
      "text/html": [
       "<div>\n",
       "<style scoped>\n",
       "    .dataframe tbody tr th:only-of-type {\n",
       "        vertical-align: middle;\n",
       "    }\n",
       "\n",
       "    .dataframe tbody tr th {\n",
       "        vertical-align: top;\n",
       "    }\n",
       "\n",
       "    .dataframe thead th {\n",
       "        text-align: right;\n",
       "    }\n",
       "</style>\n",
       "<table border=\"1\" class=\"dataframe\">\n",
       "  <thead>\n",
       "    <tr style=\"text-align: right;\">\n",
       "      <th></th>\n",
       "      <th>country</th>\n",
       "      <th>POP</th>\n",
       "      <th>tcgdp</th>\n",
       "    </tr>\n",
       "  </thead>\n",
       "  <tbody>\n",
       "    <tr>\n",
       "      <th>0</th>\n",
       "      <td>Argentina</td>\n",
       "      <td>37335.653</td>\n",
       "      <td>2.950722e+05</td>\n",
       "    </tr>\n",
       "    <tr>\n",
       "      <th>1</th>\n",
       "      <td>Australia</td>\n",
       "      <td>19053.186</td>\n",
       "      <td>5.418047e+05</td>\n",
       "    </tr>\n",
       "    <tr>\n",
       "      <th>2</th>\n",
       "      <td>India</td>\n",
       "      <td>1006300.297</td>\n",
       "      <td>1.728144e+06</td>\n",
       "    </tr>\n",
       "    <tr>\n",
       "      <th>3</th>\n",
       "      <td>Israel</td>\n",
       "      <td>6114.570</td>\n",
       "      <td>1.292539e+05</td>\n",
       "    </tr>\n",
       "    <tr>\n",
       "      <th>4</th>\n",
       "      <td>Malawi</td>\n",
       "      <td>11801.505</td>\n",
       "      <td>5.026222e+03</td>\n",
       "    </tr>\n",
       "    <tr>\n",
       "      <th>5</th>\n",
       "      <td>South Africa</td>\n",
       "      <td>45064.098</td>\n",
       "      <td>2.272424e+05</td>\n",
       "    </tr>\n",
       "    <tr>\n",
       "      <th>6</th>\n",
       "      <td>United States</td>\n",
       "      <td>282171.957</td>\n",
       "      <td>9.898700e+06</td>\n",
       "    </tr>\n",
       "    <tr>\n",
       "      <th>7</th>\n",
       "      <td>Uruguay</td>\n",
       "      <td>3219.793</td>\n",
       "      <td>2.525596e+04</td>\n",
       "    </tr>\n",
       "  </tbody>\n",
       "</table>\n",
       "</div>"
      ],
      "text/plain": [
       "         country          POP         tcgdp\n",
       "0      Argentina    37335.653  2.950722e+05\n",
       "1      Australia    19053.186  5.418047e+05\n",
       "2          India  1006300.297  1.728144e+06\n",
       "3         Israel     6114.570  1.292539e+05\n",
       "4         Malawi    11801.505  5.026222e+03\n",
       "5   South Africa    45064.098  2.272424e+05\n",
       "6  United States   282171.957  9.898700e+06\n",
       "7        Uruguay     3219.793  2.525596e+04"
      ]
     },
     "execution_count": 17,
     "metadata": {},
     "output_type": "execute_result"
    }
   ],
   "source": [
    "df = df[['country', 'POP', 'tcgdp']]\n",
    "df"
   ]
  },
  {
   "cell_type": "markdown",
   "metadata": {},
   "source": [
    "Here the index `0, 1,..., 7` is redundant because we can use the country names as an index.\n",
    "\n",
    "To do this, we set the index to be the `country` variable in the dataframe"
   ]
  },
  {
   "cell_type": "code",
   "execution_count": 18,
   "metadata": {},
   "outputs": [
    {
     "data": {
      "text/html": [
       "<div>\n",
       "<style scoped>\n",
       "    .dataframe tbody tr th:only-of-type {\n",
       "        vertical-align: middle;\n",
       "    }\n",
       "\n",
       "    .dataframe tbody tr th {\n",
       "        vertical-align: top;\n",
       "    }\n",
       "\n",
       "    .dataframe thead th {\n",
       "        text-align: right;\n",
       "    }\n",
       "</style>\n",
       "<table border=\"1\" class=\"dataframe\">\n",
       "  <thead>\n",
       "    <tr style=\"text-align: right;\">\n",
       "      <th></th>\n",
       "      <th>POP</th>\n",
       "      <th>tcgdp</th>\n",
       "    </tr>\n",
       "    <tr>\n",
       "      <th>country</th>\n",
       "      <th></th>\n",
       "      <th></th>\n",
       "    </tr>\n",
       "  </thead>\n",
       "  <tbody>\n",
       "    <tr>\n",
       "      <th>Argentina</th>\n",
       "      <td>37335.653</td>\n",
       "      <td>2.950722e+05</td>\n",
       "    </tr>\n",
       "    <tr>\n",
       "      <th>Australia</th>\n",
       "      <td>19053.186</td>\n",
       "      <td>5.418047e+05</td>\n",
       "    </tr>\n",
       "    <tr>\n",
       "      <th>India</th>\n",
       "      <td>1006300.297</td>\n",
       "      <td>1.728144e+06</td>\n",
       "    </tr>\n",
       "    <tr>\n",
       "      <th>Israel</th>\n",
       "      <td>6114.570</td>\n",
       "      <td>1.292539e+05</td>\n",
       "    </tr>\n",
       "    <tr>\n",
       "      <th>Malawi</th>\n",
       "      <td>11801.505</td>\n",
       "      <td>5.026222e+03</td>\n",
       "    </tr>\n",
       "    <tr>\n",
       "      <th>South Africa</th>\n",
       "      <td>45064.098</td>\n",
       "      <td>2.272424e+05</td>\n",
       "    </tr>\n",
       "    <tr>\n",
       "      <th>United States</th>\n",
       "      <td>282171.957</td>\n",
       "      <td>9.898700e+06</td>\n",
       "    </tr>\n",
       "    <tr>\n",
       "      <th>Uruguay</th>\n",
       "      <td>3219.793</td>\n",
       "      <td>2.525596e+04</td>\n",
       "    </tr>\n",
       "  </tbody>\n",
       "</table>\n",
       "</div>"
      ],
      "text/plain": [
       "                       POP         tcgdp\n",
       "country                                 \n",
       "Argentina        37335.653  2.950722e+05\n",
       "Australia        19053.186  5.418047e+05\n",
       "India          1006300.297  1.728144e+06\n",
       "Israel            6114.570  1.292539e+05\n",
       "Malawi           11801.505  5.026222e+03\n",
       "South Africa     45064.098  2.272424e+05\n",
       "United States   282171.957  9.898700e+06\n",
       "Uruguay           3219.793  2.525596e+04"
      ]
     },
     "execution_count": 18,
     "metadata": {},
     "output_type": "execute_result"
    }
   ],
   "source": [
    "df = df.set_index('country')\n",
    "df"
   ]
  },
  {
   "cell_type": "markdown",
   "metadata": {},
   "source": [
    "Let's give the columns slightly better names"
   ]
  },
  {
   "cell_type": "code",
   "execution_count": 19,
   "metadata": {},
   "outputs": [
    {
     "data": {
      "text/html": [
       "<div>\n",
       "<style scoped>\n",
       "    .dataframe tbody tr th:only-of-type {\n",
       "        vertical-align: middle;\n",
       "    }\n",
       "\n",
       "    .dataframe tbody tr th {\n",
       "        vertical-align: top;\n",
       "    }\n",
       "\n",
       "    .dataframe thead th {\n",
       "        text-align: right;\n",
       "    }\n",
       "</style>\n",
       "<table border=\"1\" class=\"dataframe\">\n",
       "  <thead>\n",
       "    <tr style=\"text-align: right;\">\n",
       "      <th></th>\n",
       "      <th>population</th>\n",
       "      <th>total GDP</th>\n",
       "    </tr>\n",
       "    <tr>\n",
       "      <th>country</th>\n",
       "      <th></th>\n",
       "      <th></th>\n",
       "    </tr>\n",
       "  </thead>\n",
       "  <tbody>\n",
       "    <tr>\n",
       "      <th>Argentina</th>\n",
       "      <td>37335.653</td>\n",
       "      <td>2.950722e+05</td>\n",
       "    </tr>\n",
       "    <tr>\n",
       "      <th>Australia</th>\n",
       "      <td>19053.186</td>\n",
       "      <td>5.418047e+05</td>\n",
       "    </tr>\n",
       "    <tr>\n",
       "      <th>India</th>\n",
       "      <td>1006300.297</td>\n",
       "      <td>1.728144e+06</td>\n",
       "    </tr>\n",
       "    <tr>\n",
       "      <th>Israel</th>\n",
       "      <td>6114.570</td>\n",
       "      <td>1.292539e+05</td>\n",
       "    </tr>\n",
       "    <tr>\n",
       "      <th>Malawi</th>\n",
       "      <td>11801.505</td>\n",
       "      <td>5.026222e+03</td>\n",
       "    </tr>\n",
       "    <tr>\n",
       "      <th>South Africa</th>\n",
       "      <td>45064.098</td>\n",
       "      <td>2.272424e+05</td>\n",
       "    </tr>\n",
       "    <tr>\n",
       "      <th>United States</th>\n",
       "      <td>282171.957</td>\n",
       "      <td>9.898700e+06</td>\n",
       "    </tr>\n",
       "    <tr>\n",
       "      <th>Uruguay</th>\n",
       "      <td>3219.793</td>\n",
       "      <td>2.525596e+04</td>\n",
       "    </tr>\n",
       "  </tbody>\n",
       "</table>\n",
       "</div>"
      ],
      "text/plain": [
       "                population     total GDP\n",
       "country                                 \n",
       "Argentina        37335.653  2.950722e+05\n",
       "Australia        19053.186  5.418047e+05\n",
       "India          1006300.297  1.728144e+06\n",
       "Israel            6114.570  1.292539e+05\n",
       "Malawi           11801.505  5.026222e+03\n",
       "South Africa     45064.098  2.272424e+05\n",
       "United States   282171.957  9.898700e+06\n",
       "Uruguay           3219.793  2.525596e+04"
      ]
     },
     "execution_count": 19,
     "metadata": {},
     "output_type": "execute_result"
    }
   ],
   "source": [
    "df.columns = 'population', 'total GDP'\n",
    "df"
   ]
  },
  {
   "cell_type": "markdown",
   "metadata": {},
   "source": [
    "Population is in thousands, let's revert to single units"
   ]
  },
  {
   "cell_type": "code",
   "execution_count": 20,
   "metadata": {},
   "outputs": [
    {
     "data": {
      "text/html": [
       "<div>\n",
       "<style scoped>\n",
       "    .dataframe tbody tr th:only-of-type {\n",
       "        vertical-align: middle;\n",
       "    }\n",
       "\n",
       "    .dataframe tbody tr th {\n",
       "        vertical-align: top;\n",
       "    }\n",
       "\n",
       "    .dataframe thead th {\n",
       "        text-align: right;\n",
       "    }\n",
       "</style>\n",
       "<table border=\"1\" class=\"dataframe\">\n",
       "  <thead>\n",
       "    <tr style=\"text-align: right;\">\n",
       "      <th></th>\n",
       "      <th>population</th>\n",
       "      <th>total GDP</th>\n",
       "    </tr>\n",
       "    <tr>\n",
       "      <th>country</th>\n",
       "      <th></th>\n",
       "      <th></th>\n",
       "    </tr>\n",
       "  </thead>\n",
       "  <tbody>\n",
       "    <tr>\n",
       "      <th>Argentina</th>\n",
       "      <td>3.733565e+07</td>\n",
       "      <td>2.950722e+05</td>\n",
       "    </tr>\n",
       "    <tr>\n",
       "      <th>Australia</th>\n",
       "      <td>1.905319e+07</td>\n",
       "      <td>5.418047e+05</td>\n",
       "    </tr>\n",
       "    <tr>\n",
       "      <th>India</th>\n",
       "      <td>1.006300e+09</td>\n",
       "      <td>1.728144e+06</td>\n",
       "    </tr>\n",
       "    <tr>\n",
       "      <th>Israel</th>\n",
       "      <td>6.114570e+06</td>\n",
       "      <td>1.292539e+05</td>\n",
       "    </tr>\n",
       "    <tr>\n",
       "      <th>Malawi</th>\n",
       "      <td>1.180150e+07</td>\n",
       "      <td>5.026222e+03</td>\n",
       "    </tr>\n",
       "    <tr>\n",
       "      <th>South Africa</th>\n",
       "      <td>4.506410e+07</td>\n",
       "      <td>2.272424e+05</td>\n",
       "    </tr>\n",
       "    <tr>\n",
       "      <th>United States</th>\n",
       "      <td>2.821720e+08</td>\n",
       "      <td>9.898700e+06</td>\n",
       "    </tr>\n",
       "    <tr>\n",
       "      <th>Uruguay</th>\n",
       "      <td>3.219793e+06</td>\n",
       "      <td>2.525596e+04</td>\n",
       "    </tr>\n",
       "  </tbody>\n",
       "</table>\n",
       "</div>"
      ],
      "text/plain": [
       "                 population     total GDP\n",
       "country                                  \n",
       "Argentina      3.733565e+07  2.950722e+05\n",
       "Australia      1.905319e+07  5.418047e+05\n",
       "India          1.006300e+09  1.728144e+06\n",
       "Israel         6.114570e+06  1.292539e+05\n",
       "Malawi         1.180150e+07  5.026222e+03\n",
       "South Africa   4.506410e+07  2.272424e+05\n",
       "United States  2.821720e+08  9.898700e+06\n",
       "Uruguay        3.219793e+06  2.525596e+04"
      ]
     },
     "execution_count": 20,
     "metadata": {},
     "output_type": "execute_result"
    }
   ],
   "source": [
    "df['population'] = df['population'] * 1e3\n",
    "df"
   ]
  },
  {
   "cell_type": "markdown",
   "metadata": {},
   "source": [
    "Next, we're going to add a column showing real GDP per capita, multiplying by 1,000,000 as we go because total GDP is in millions"
   ]
  },
  {
   "cell_type": "code",
   "execution_count": 21,
   "metadata": {},
   "outputs": [
    {
     "data": {
      "text/html": [
       "<div>\n",
       "<style scoped>\n",
       "    .dataframe tbody tr th:only-of-type {\n",
       "        vertical-align: middle;\n",
       "    }\n",
       "\n",
       "    .dataframe tbody tr th {\n",
       "        vertical-align: top;\n",
       "    }\n",
       "\n",
       "    .dataframe thead th {\n",
       "        text-align: right;\n",
       "    }\n",
       "</style>\n",
       "<table border=\"1\" class=\"dataframe\">\n",
       "  <thead>\n",
       "    <tr style=\"text-align: right;\">\n",
       "      <th></th>\n",
       "      <th>population</th>\n",
       "      <th>total GDP</th>\n",
       "      <th>GDP percap</th>\n",
       "    </tr>\n",
       "    <tr>\n",
       "      <th>country</th>\n",
       "      <th></th>\n",
       "      <th></th>\n",
       "      <th></th>\n",
       "    </tr>\n",
       "  </thead>\n",
       "  <tbody>\n",
       "    <tr>\n",
       "      <th>Argentina</th>\n",
       "      <td>3.733565e+07</td>\n",
       "      <td>2.950722e+05</td>\n",
       "      <td>7903.229085</td>\n",
       "    </tr>\n",
       "    <tr>\n",
       "      <th>Australia</th>\n",
       "      <td>1.905319e+07</td>\n",
       "      <td>5.418047e+05</td>\n",
       "      <td>28436.433261</td>\n",
       "    </tr>\n",
       "    <tr>\n",
       "      <th>India</th>\n",
       "      <td>1.006300e+09</td>\n",
       "      <td>1.728144e+06</td>\n",
       "      <td>1717.324719</td>\n",
       "    </tr>\n",
       "    <tr>\n",
       "      <th>Israel</th>\n",
       "      <td>6.114570e+06</td>\n",
       "      <td>1.292539e+05</td>\n",
       "      <td>21138.672749</td>\n",
       "    </tr>\n",
       "    <tr>\n",
       "      <th>Malawi</th>\n",
       "      <td>1.180150e+07</td>\n",
       "      <td>5.026222e+03</td>\n",
       "      <td>425.896679</td>\n",
       "    </tr>\n",
       "    <tr>\n",
       "      <th>South Africa</th>\n",
       "      <td>4.506410e+07</td>\n",
       "      <td>2.272424e+05</td>\n",
       "      <td>5042.647686</td>\n",
       "    </tr>\n",
       "    <tr>\n",
       "      <th>United States</th>\n",
       "      <td>2.821720e+08</td>\n",
       "      <td>9.898700e+06</td>\n",
       "      <td>35080.381854</td>\n",
       "    </tr>\n",
       "    <tr>\n",
       "      <th>Uruguay</th>\n",
       "      <td>3.219793e+06</td>\n",
       "      <td>2.525596e+04</td>\n",
       "      <td>7843.970620</td>\n",
       "    </tr>\n",
       "  </tbody>\n",
       "</table>\n",
       "</div>"
      ],
      "text/plain": [
       "                 population     total GDP    GDP percap\n",
       "country                                                \n",
       "Argentina      3.733565e+07  2.950722e+05   7903.229085\n",
       "Australia      1.905319e+07  5.418047e+05  28436.433261\n",
       "India          1.006300e+09  1.728144e+06   1717.324719\n",
       "Israel         6.114570e+06  1.292539e+05  21138.672749\n",
       "Malawi         1.180150e+07  5.026222e+03    425.896679\n",
       "South Africa   4.506410e+07  2.272424e+05   5042.647686\n",
       "United States  2.821720e+08  9.898700e+06  35080.381854\n",
       "Uruguay        3.219793e+06  2.525596e+04   7843.970620"
      ]
     },
     "execution_count": 21,
     "metadata": {},
     "output_type": "execute_result"
    }
   ],
   "source": [
    "df['GDP percap'] = df['total GDP'] * 1e6 / df['population']\n",
    "df"
   ]
  },
  {
   "cell_type": "markdown",
   "metadata": {},
   "source": [
    "One of the nice things about pandas `DataFrame` and `Series` objects is that they have methods for plotting and visualization that work through Matplotlib.\n",
    "\n",
    "For example, we can easily generate a bar plot of GDP per capita"
   ]
  },
  {
   "cell_type": "code",
   "execution_count": 22,
   "metadata": {},
   "outputs": [
    {
     "data": {
      "image/png": "[encoded data removed]",
      "text/plain": [
       "<Figure size 432x288 with 1 Axes>"
      ]
     },
     "metadata": {
      "filenames": {
       "image/png": "/home/runner/work/lecture-python-programming.myst/lecture-python-programming.myst/_build/jupyter_execute/pandas_39_0.png"
      },
      "needs_background": "light"
     },
     "output_type": "display_data"
    }
   ],
   "source": [
    "ax = df['GDP percap'].plot(kind='bar')\n",
    "ax.set_xlabel('country', fontsize=12)\n",
    "ax.set_ylabel('GDP per capita', fontsize=12)\n",
    "plt.show()"
   ]
  },
  {
   "cell_type": "markdown",
   "metadata": {},
   "source": [
    "At the moment the data frame is ordered alphabetically on the countries---let's change it to GDP per capita"
   ]
  },
  {
   "cell_type": "code",
   "execution_count": 23,
   "metadata": {},
   "outputs": [
    {
     "data": {
      "text/html": [
       "<div>\n",
       "<style scoped>\n",
       "    .dataframe tbody tr th:only-of-type {\n",
       "        vertical-align: middle;\n",
       "    }\n",
       "\n",
       "    .dataframe tbody tr th {\n",
       "        vertical-align: top;\n",
       "    }\n",
       "\n",
       "    .dataframe thead th {\n",
       "        text-align: right;\n",
       "    }\n",
       "</style>\n",
       "<table border=\"1\" class=\"dataframe\">\n",
       "  <thead>\n",
       "    <tr style=\"text-align: right;\">\n",
       "      <th></th>\n",
       "      <th>population</th>\n",
       "      <th>total GDP</th>\n",
       "      <th>GDP percap</th>\n",
       "    </tr>\n",
       "    <tr>\n",
       "      <th>country</th>\n",
       "      <th></th>\n",
       "      <th></th>\n",
       "      <th></th>\n",
       "    </tr>\n",
       "  </thead>\n",
       "  <tbody>\n",
       "    <tr>\n",
       "      <th>United States</th>\n",
       "      <td>2.821720e+08</td>\n",
       "      <td>9.898700e+06</td>\n",
       "      <td>35080.381854</td>\n",
       "    </tr>\n",
       "    <tr>\n",
       "      <th>Australia</th>\n",
       "      <td>1.905319e+07</td>\n",
       "      <td>5.418047e+05</td>\n",
       "      <td>28436.433261</td>\n",
       "    </tr>\n",
       "    <tr>\n",
       "      <th>Israel</th>\n",
       "      <td>6.114570e+06</td>\n",
       "      <td>1.292539e+05</td>\n",
       "      <td>21138.672749</td>\n",
       "    </tr>\n",
       "    <tr>\n",
       "      <th>Argentina</th>\n",
       "      <td>3.733565e+07</td>\n",
       "      <td>2.950722e+05</td>\n",
       "      <td>7903.229085</td>\n",
       "    </tr>\n",
       "    <tr>\n",
       "      <th>Uruguay</th>\n",
       "      <td>3.219793e+06</td>\n",
       "      <td>2.525596e+04</td>\n",
       "      <td>7843.970620</td>\n",
       "    </tr>\n",
       "    <tr>\n",
       "      <th>South Africa</th>\n",
       "      <td>4.506410e+07</td>\n",
       "      <td>2.272424e+05</td>\n",
       "      <td>5042.647686</td>\n",
       "    </tr>\n",
       "    <tr>\n",
       "      <th>India</th>\n",
       "      <td>1.006300e+09</td>\n",
       "      <td>1.728144e+06</td>\n",
       "      <td>1717.324719</td>\n",
       "    </tr>\n",
       "    <tr>\n",
       "      <th>Malawi</th>\n",
       "      <td>1.180150e+07</td>\n",
       "      <td>5.026222e+03</td>\n",
       "      <td>425.896679</td>\n",
       "    </tr>\n",
       "  </tbody>\n",
       "</table>\n",
       "</div>"
      ],
      "text/plain": [
       "                 population     total GDP    GDP percap\n",
       "country                                                \n",
       "United States  2.821720e+08  9.898700e+06  35080.381854\n",
       "Australia      1.905319e+07  5.418047e+05  28436.433261\n",
       "Israel         6.114570e+06  1.292539e+05  21138.672749\n",
       "Argentina      3.733565e+07  2.950722e+05   7903.229085\n",
       "Uruguay        3.219793e+06  2.525596e+04   7843.970620\n",
       "South Africa   4.506410e+07  2.272424e+05   5042.647686\n",
       "India          1.006300e+09  1.728144e+06   1717.324719\n",
       "Malawi         1.180150e+07  5.026222e+03    425.896679"
      ]
     },
     "execution_count": 23,
     "metadata": {},
     "output_type": "execute_result"
    }
   ],
   "source": [
    "df = df.sort_values(by='GDP percap', ascending=False)\n",
    "df"
   ]
  },
  {
   "cell_type": "markdown",
   "metadata": {},
   "source": [
    "Plotting as before now yields"
   ]
  },
  {
   "cell_type": "code",
   "execution_count": 24,
   "metadata": {},
   "outputs": [
    {
     "data": {
      "image/png": "[encoded data removed]",
      "text/plain": [
       "<Figure size 432x288 with 1 Axes>"
      ]
     },
     "metadata": {
      "filenames": {
       "image/png": "/home/runner/work/lecture-python-programming.myst/lecture-python-programming.myst/_build/jupyter_execute/pandas_43_0.png"
      },
      "needs_background": "light"
     },
     "output_type": "display_data"
    }
   ],
   "source": [
    "ax = df['GDP percap'].plot(kind='bar')\n",
    "ax.set_xlabel('country', fontsize=12)\n",
    "ax.set_ylabel('GDP per capita', fontsize=12)\n",
    "plt.show()"
   ]
  },
  {
   "cell_type": "markdown",
   "metadata": {},
   "source": [
    "## On-Line Data Sources\n",
    "\n",
    "```{index} single: Data Sources\n",
    "```\n",
    "\n",
    "Python makes it straightforward to query online databases programmatically.\n",
    "\n",
    "An important database for economists is [FRED](https://research.stlouisfed.org/fred2/) --- a vast collection of time series data maintained by the St. Louis Fed.\n",
    "\n",
    "For example, suppose that we are interested in the [unemployment rate](https://research.stlouisfed.org/fred2/series/UNRATE).\n",
    "\n",
    "Via FRED, the entire series for the US civilian unemployment rate can be downloaded directly by entering\n",
    "this URL into your browser (note that this requires an internet connection)\n",
    "\n",
    "```{code-block} none\n",
    "https://research.stlouisfed.org/fred2/series/UNRATE/downloaddata/UNRATE.csv\n",
    "```\n",
    "\n",
    "(Equivalently, click here: [https://research.stlouisfed.org/fred2/series/UNRATE/downloaddata/UNRATE.csv](https://research.stlouisfed.org/fred2/series/UNRATE/downloaddata/UNRATE.csv))\n",
    "\n",
    "This request returns a CSV file, which will be handled by your default application for this class of files.\n",
    "\n",
    "Alternatively, we can access the CSV file from within a Python program.\n",
    "\n",
    "This can be done with a variety of methods.\n",
    "\n",
    "We start with a relatively low-level method and then return to pandas.\n",
    "\n",
    "### Accessing Data with {index}`requests <single: requests>`\n",
    "\n",
    "```{index} single: Python; requests\n",
    "```\n",
    "\n",
    "One option is to use [requests](https://requests.readthedocs.io/en/master/), a standard Python library for requesting data over the Internet.\n",
    "\n",
    "To begin, try the following code on your computer"
   ]
  },
  {
   "cell_type": "code",
   "execution_count": 25,
   "metadata": {},
   "outputs": [],
   "source": [
    "r = requests.get('http://research.stlouisfed.org/fred2/series/UNRATE/downloaddata/UNRATE.csv')"
   ]
  },
  {
   "cell_type": "markdown",
   "metadata": {},
   "source": [
    "If there's no error message, then the call has succeeded.\n",
    "\n",
    "If you do get an error, then there are two likely causes\n",
    "\n",
    "1. You are not connected to the Internet --- hopefully, this isn't the case.\n",
    "1. Your machine is accessing the Internet through a proxy server, and Python isn't aware of this.\n",
    "\n",
    "In the second case, you can either\n",
    "\n",
    "* switch to another machine\n",
    "* solve your proxy problem by reading [the documentation](https://requests.readthedocs.io/en/master/)\n",
    "\n",
    "Assuming that all is working, you can now proceed to use the `source` object returned by the call `requests.get('http://research.stlouisfed.org/fred2/series/UNRATE/downloaddata/UNRATE.csv')`"
   ]
  },
  {
   "cell_type": "code",
   "execution_count": 26,
   "metadata": {},
   "outputs": [
    {
     "data": {
      "text/plain": [
       "'DATE,VALUE\\r'"
      ]
     },
     "execution_count": 26,
     "metadata": {},
     "output_type": "execute_result"
    }
   ],
   "source": [
    "url = 'http://research.stlouisfed.org/fred2/series/UNRATE/downloaddata/UNRATE.csv'\n",
    "source = requests.get(url).content.decode().split(\"\\n\")\n",
    "source[0]"
   ]
  },
  {
   "cell_type": "code",
   "execution_count": 27,
   "metadata": {},
   "outputs": [
    {
     "data": {
      "text/plain": [
       "'1948-01-01,3.4\\r'"
      ]
     },
     "execution_count": 27,
     "metadata": {},
     "output_type": "execute_result"
    }
   ],
   "source": [
    "source[1]"
   ]
  },
  {
   "cell_type": "code",
   "execution_count": 28,
   "metadata": {},
   "outputs": [
    {
     "data": {
      "text/plain": [
       "'1948-02-01,3.8\\r'"
      ]
     },
     "execution_count": 28,
     "metadata": {},
     "output_type": "execute_result"
    }
   ],
   "source": [
    "source[2]"
   ]
  },
  {
   "cell_type": "markdown",
   "metadata": {},
   "source": [
    "We could now write some additional code to parse this text and store it as an array.\n",
    "\n",
    "But this is unnecessary --- pandas' `read_csv` function can handle the task for us.\n",
    "\n",
    "We use `parse_dates=True` so that pandas recognizes our dates column, allowing for simple date filtering"
   ]
  },
  {
   "cell_type": "code",
   "execution_count": 29,
   "metadata": {},
   "outputs": [],
   "source": [
    "data = pd.read_csv(url, index_col=0, parse_dates=True)"
   ]
  },
  {
   "cell_type": "markdown",
   "metadata": {},
   "source": [
    "The data has been read into a pandas DataFrame called `data` that we can now manipulate in the usual way"
   ]
  },
  {
   "cell_type": "code",
   "execution_count": 30,
   "metadata": {},
   "outputs": [
    {
     "data": {
      "text/plain": [
       "pandas.core.frame.DataFrame"
      ]
     },
     "execution_count": 30,
     "metadata": {},
     "output_type": "execute_result"
    }
   ],
   "source": [
    "type(data)"
   ]
  },
  {
   "cell_type": "code",
   "execution_count": 31,
   "metadata": {},
   "outputs": [
    {
     "data": {
      "text/html": [
       "<div>\n",
       "<style scoped>\n",
       "    .dataframe tbody tr th:only-of-type {\n",
       "        vertical-align: middle;\n",
       "    }\n",
       "\n",
       "    .dataframe tbody tr th {\n",
       "        vertical-align: top;\n",
       "    }\n",
       "\n",
       "    .dataframe thead th {\n",
       "        text-align: right;\n",
       "    }\n",
       "</style>\n",
       "<table border=\"1\" class=\"dataframe\">\n",
       "  <thead>\n",
       "    <tr style=\"text-align: right;\">\n",
       "      <th></th>\n",
       "      <th>VALUE</th>\n",
       "    </tr>\n",
       "    <tr>\n",
       "      <th>DATE</th>\n",
       "      <th></th>\n",
       "    </tr>\n",
       "  </thead>\n",
       "  <tbody>\n",
       "    <tr>\n",
       "      <th>1948-01-01</th>\n",
       "      <td>3.4</td>\n",
       "    </tr>\n",
       "    <tr>\n",
       "      <th>1948-02-01</th>\n",
       "      <td>3.8</td>\n",
       "    </tr>\n",
       "    <tr>\n",
       "      <th>1948-03-01</th>\n",
       "      <td>4.0</td>\n",
       "    </tr>\n",
       "    <tr>\n",
       "      <th>1948-04-01</th>\n",
       "      <td>3.9</td>\n",
       "    </tr>\n",
       "    <tr>\n",
       "      <th>1948-05-01</th>\n",
       "      <td>3.5</td>\n",
       "    </tr>\n",
       "  </tbody>\n",
       "</table>\n",
       "</div>"
      ],
      "text/plain": [
       "            VALUE\n",
       "DATE             \n",
       "1948-01-01    3.4\n",
       "1948-02-01    3.8\n",
       "1948-03-01    4.0\n",
       "1948-04-01    3.9\n",
       "1948-05-01    3.5"
      ]
     },
     "execution_count": 31,
     "metadata": {},
     "output_type": "execute_result"
    }
   ],
   "source": [
    "data.head()  # A useful method to get a quick look at a data frame"
   ]
  },
  {
   "cell_type": "code",
   "execution_count": 32,
   "metadata": {},
   "outputs": [
    {
     "data": {
      "text/html": [
       "<div>\n",
       "<style scoped>\n",
       "    .dataframe tbody tr th:only-of-type {\n",
       "        vertical-align: middle;\n",
       "    }\n",
       "\n",
       "    .dataframe tbody tr th {\n",
       "        vertical-align: top;\n",
       "    }\n",
       "\n",
       "    .dataframe thead th {\n",
       "        text-align: right;\n",
       "    }\n",
       "</style>\n",
       "<table border=\"1\" class=\"dataframe\">\n",
       "  <thead>\n",
       "    <tr style=\"text-align: right;\">\n",
       "      <th></th>\n",
       "      <th>VALUE</th>\n",
       "    </tr>\n",
       "  </thead>\n",
       "  <tbody>\n",
       "    <tr>\n",
       "      <th>count</th>\n",
       "      <td>873.0</td>\n",
       "    </tr>\n",
       "    <tr>\n",
       "      <th>mean</th>\n",
       "      <td>5.8</td>\n",
       "    </tr>\n",
       "    <tr>\n",
       "      <th>std</th>\n",
       "      <td>1.7</td>\n",
       "    </tr>\n",
       "    <tr>\n",
       "      <th>min</th>\n",
       "      <td>2.5</td>\n",
       "    </tr>\n",
       "    <tr>\n",
       "      <th>25%</th>\n",
       "      <td>4.5</td>\n",
       "    </tr>\n",
       "    <tr>\n",
       "      <th>50%</th>\n",
       "      <td>5.6</td>\n",
       "    </tr>\n",
       "    <tr>\n",
       "      <th>75%</th>\n",
       "      <td>6.8</td>\n",
       "    </tr>\n",
       "    <tr>\n",
       "      <th>max</th>\n",
       "      <td>14.7</td>\n",
       "    </tr>\n",
       "  </tbody>\n",
       "</table>\n",
       "</div>"
      ],
      "text/plain": [
       "       VALUE\n",
       "count  873.0\n",
       "mean     5.8\n",
       "std      1.7\n",
       "min      2.5\n",
       "25%      4.5\n",
       "50%      5.6\n",
       "75%      6.8\n",
       "max     14.7"
      ]
     },
     "execution_count": 32,
     "metadata": {},
     "output_type": "execute_result"
    }
   ],
   "source": [
    "pd.set_option('precision', 1)\n",
    "data.describe()  # Your output might differ slightly"
   ]
  },
  {
   "cell_type": "markdown",
   "metadata": {},
   "source": [
    "We can also plot the unemployment rate from 2006 to 2012 as follows"
   ]
  },
  {
   "cell_type": "code",
   "execution_count": 33,
   "metadata": {},
   "outputs": [
    {
     "data": {
      "image/png": "[encoded data removed]",
      "text/plain": [
       "<Figure size 432x288 with 1 Axes>"
      ]
     },
     "metadata": {
      "filenames": {
       "image/png": "/home/runner/work/lecture-python-programming.myst/lecture-python-programming.myst/_build/jupyter_execute/pandas_57_0.png"
      },
      "needs_background": "light"
     },
     "output_type": "display_data"
    }
   ],
   "source": [
    "ax = data['2006':'2012'].plot(title='US Unemployment Rate', legend=False)\n",
    "ax.set_xlabel('year', fontsize=12)\n",
    "ax.set_ylabel('%', fontsize=12)\n",
    "plt.show()"
   ]
  },
  {
   "cell_type": "markdown",
   "metadata": {},
   "source": [
    "Note that pandas offers many other file type alternatives.\n",
    "\n",
    "Pandas has [a wide variety](https://pandas.pydata.org/pandas-docs/stable/user_guide/io.html) of top-level methods that we can use to read, excel, json, parquet or plug straight into a database server.\n",
    "\n",
    "### Using {index}`pandas_datareader <single: pandas_datareader>` to Access Data\n",
    "\n",
    "```{index} single: Python; pandas-datareader\n",
    "```\n",
    "\n",
    "The maker of pandas has also authored a library called pandas_datareader that gives programmatic access to many data sources straight from the Jupyter notebook.\n",
    "\n",
    "While some sources require an access key, many of the most important (e.g., FRED, [OECD](https://data.oecd.org/), [EUROSTAT](https://ec.europa.eu/eurostat/data/database) and the World Bank) are free to use.\n",
    "\n",
    "For now let's work through one example of downloading and plotting data --- this\n",
    "time from the World Bank.\n",
    "\n",
    "The World Bank [collects and organizes data](http://data.worldbank.org/indicator) on a huge range of indicators.\n",
    "\n",
    "For example, [here's](http://data.worldbank.org/indicator/GC.DOD.TOTL.GD.ZS/countries) some data on government debt as a ratio to GDP.\n",
    "\n",
    "The next code example fetches the data for you and plots time series for the US and Australia"
   ]
  },
  {
   "cell_type": "code",
   "execution_count": 34,
   "metadata": {},
   "outputs": [
    {
     "data": {
      "image/png": "[encoded data removed]",
      "text/plain": [
       "<Figure size 432x288 with 1 Axes>"
      ]
     },
     "metadata": {
      "filenames": {
       "image/png": "/home/runner/work/lecture-python-programming.myst/lecture-python-programming.myst/_build/jupyter_execute/pandas_59_0.png"
      },
      "needs_background": "light"
     },
     "output_type": "display_data"
    }
   ],
   "source": [
    "from pandas_datareader import wb\n",
    "\n",
    "govt_debt = wb.download(indicator='GC.DOD.TOTL.GD.ZS', country=['US', 'AU'], start=2005, end=2016).stack().unstack(0)\n",
    "ind = govt_debt.index.droplevel(-1)\n",
    "govt_debt.index = ind\n",
    "ax = govt_debt.plot(lw=2)\n",
    "ax.set_xlabel('year', fontsize=12)\n",
    "plt.title(\"Government Debt to GDP (%)\")\n",
    "plt.show()"
   ]
  },
  {
   "cell_type": "markdown",
   "metadata": {},
   "source": [
    "The [documentation](https://pandas-datareader.readthedocs.io/en/latest/index.html) provides more details on how to access various data sources.\n",
    "\n",
    "## Exercises\n",
    "\n",
    "(pd_ex1)=\n",
    "### Exercise 1\n",
    "\n",
    "With these imports:"
   ]
  },
  {
   "cell_type": "code",
   "execution_count": 35,
   "metadata": {},
   "outputs": [],
   "source": [
    "import datetime as dt\n",
    "from pandas_datareader import data"
   ]
  },
  {
   "cell_type": "markdown",
   "metadata": {},
   "source": [
    "Write a program to calculate the percentage price change over 2019 for the following shares:"
   ]
  },
  {
   "cell_type": "code",
   "execution_count": 36,
   "metadata": {},
   "outputs": [],
   "source": [
    "ticker_list = {'INTC': 'Intel',\n",
    "               'MSFT': 'Microsoft',\n",
    "               'IBM': 'IBM',\n",
    "               'BHP': 'BHP',\n",
    "               'TM': 'Toyota',\n",
    "               'AAPL': 'Apple',\n",
    "               'AMZN': 'Amazon',\n",
    "               'BA': 'Boeing',\n",
    "               'QCOM': 'Qualcomm',\n",
    "               'KO': 'Coca-Cola',\n",
    "               'GOOG': 'Google',\n",
    "               'SNE': 'Sony',\n",
    "               'PTR': 'PetroChina'}"
   ]
  },
  {
   "cell_type": "markdown",
   "metadata": {},
   "source": [
    "Here's the first part of the program"
   ]
  },
  {
   "cell_type": "code",
   "execution_count": 37,
   "metadata": {},
   "outputs": [],
   "source": [
    "def read_data(ticker_list,\n",
    "          start=dt.datetime(2019, 1, 2),\n",
    "          end=dt.datetime(2019, 12, 31)):\n",
    "    \"\"\"\n",
    "    This function reads in closing price data from Yahoo\n",
    "    for each tick in the ticker_list.\n",
    "    \"\"\"\n",
    "    ticker = pd.DataFrame()\n",
    "\n",
    "    for tick in ticker_list:\n",
    "        prices = data.DataReader(tick, 'yahoo', start, end)\n",
    "        closing_prices = prices['Close']\n",
    "        ticker[tick] = closing_prices\n",
    "\n",
    "    return ticker\n",
    "\n",
    "ticker = read_data(ticker_list)"
   ]
  },
  {
   "cell_type": "markdown",
   "metadata": {},
   "source": [
    "Complete the program to plot the result as a bar graph like this one:\n",
    "\n",
    "```{figure} /_static/lecture_specific/pandas/pandas_share_prices.png\n",
    ":scale: 50\n",
    "```\n",
    "\n",
    "(pd_ex2)=\n",
    "### Exercise 2\n",
    "\n",
    "Using the method `read_data` introduced in {ref}`Exercise 1 <pd_ex1>`, write a program to obtain year-on-year percentage change for the following indices:"
   ]
  },
  {
   "cell_type": "code",
   "execution_count": 38,
   "metadata": {},
   "outputs": [],
   "source": [
    "indices_list = {'^GSPC': 'S&P 500',\n",
    "               '^IXIC': 'NASDAQ',\n",
    "               '^DJI': 'Dow Jones',\n",
    "               '^N225': 'Nikkei'}"
   ]
  },
  {
   "cell_type": "markdown",
   "metadata": {},
   "source": [
    "Complete the program to show summary statistics and plot the result as a time series graph like this one:\n",
    "\n",
    "```{figure} /_static/lecture_specific/pandas/pandas_indices_pctchange.png\n",
    ":scale: 53\n",
    "```\n",
    "\n",
    "## Solutions\n",
    "\n",
    "### Exercise 1\n",
    "\n",
    "There are a few ways to approach this problem using Pandas to calculate\n",
    "the percentage change.\n",
    "\n",
    "First, you can extract the data and perform the calculation such as:"
   ]
  },
  {
   "cell_type": "code",
   "execution_count": 39,
   "metadata": {},
   "outputs": [
    {
     "data": {
      "text/plain": [
       "INTC    27.1\n",
       "MSFT    56.0\n",
       "IBM     16.3\n",
       "BHP     14.3\n",
       "TM      20.9\n",
       "AAPL    85.9\n",
       "AMZN    20.1\n",
       "BA       0.6\n",
       "QCOM    53.7\n",
       "KO      17.9\n",
       "GOOG    27.8\n",
       "SNE     39.6\n",
       "PTR    -17.4\n",
       "dtype: float64"
      ]
     },
     "execution_count": 39,
     "metadata": {},
     "output_type": "execute_result"
    }
   ],
   "source": [
    "p1 = ticker.iloc[0]    #Get the first set of prices as a Series\n",
    "p2 = ticker.iloc[-1]   #Get the last set of prices as a Series\n",
    "price_change = (p2 - p1) / p1 * 100\n",
    "price_change"
   ]
  },
  {
   "cell_type": "markdown",
   "metadata": {},
   "source": [
    "Alternatively you can use an inbuilt method `pct_change` and configure it to\n",
    "perform the correct calculation using `periods` argument."
   ]
  },
  {
   "cell_type": "code",
   "execution_count": 40,
   "metadata": {},
   "outputs": [
    {
     "data": {
      "text/plain": [
       "INTC    27.1\n",
       "MSFT    56.0\n",
       "IBM     16.3\n",
       "BHP     14.3\n",
       "TM      20.9\n",
       "AAPL    85.9\n",
       "AMZN    20.1\n",
       "BA       0.6\n",
       "QCOM    53.7\n",
       "KO      17.9\n",
       "GOOG    27.8\n",
       "SNE     39.6\n",
       "PTR    -17.4\n",
       "Name: 2019-12-31 00:00:00, dtype: float64"
      ]
     },
     "execution_count": 40,
     "metadata": {},
     "output_type": "execute_result"
    }
   ],
   "source": [
    "change = ticker.pct_change(periods=len(ticker)-1, axis='rows')*100\n",
    "price_change = change.iloc[-1]\n",
    "price_change"
   ]
  },
  {
   "cell_type": "markdown",
   "metadata": {},
   "source": [
    "Then to plot the chart"
   ]
  },
  {
   "cell_type": "code",
   "execution_count": 41,
   "metadata": {},
   "outputs": [
    {
     "data": {
      "image/png": "[encoded data removed]",
      "text/plain": [
       "<Figure size 720x576 with 1 Axes>"
      ]
     },
     "metadata": {
      "filenames": {
       "image/png": "/home/runner/work/lecture-python-programming.myst/lecture-python-programming.myst/_build/jupyter_execute/pandas_73_0.png"
      },
      "needs_background": "light"
     },
     "output_type": "display_data"
    }
   ],
   "source": [
    "price_change.sort_values(inplace=True)\n",
    "price_change = price_change.rename(index=ticker_list)\n",
    "fig, ax = plt.subplots(figsize=(10,8))\n",
    "ax.set_xlabel('stock', fontsize=12)\n",
    "ax.set_ylabel('percentage change in price', fontsize=12)\n",
    "price_change.plot(kind='bar', ax=ax)\n",
    "plt.show()"
   ]
  },
  {
   "cell_type": "markdown",
   "metadata": {},
   "source": [
    "### Exercise 2\n",
    "\n",
    "Following the work you did in {ref}`Exercise 1 <pd_ex1>`, you can query the data using `read_data` by updating the start and end dates accordingly."
   ]
  },
  {
   "cell_type": "code",
   "execution_count": 42,
   "metadata": {},
   "outputs": [],
   "source": [
    "indices_data = read_data(\n",
    "        indices_list,\n",
    "        start=dt.datetime(1928, 1, 2),\n",
    "        end=dt.datetime(2020, 12, 31)\n",
    ")"
   ]
  },
  {
   "cell_type": "markdown",
   "metadata": {},
   "source": [
    "Then, extract the first and last set of prices per year as DataFrames and calculate the yearly returns such as:"
   ]
  },
  {
   "cell_type": "code",
   "execution_count": 43,
   "metadata": {},
   "outputs": [
    {
     "data": {
      "text/html": [
       "<div>\n",
       "<style scoped>\n",
       "    .dataframe tbody tr th:only-of-type {\n",
       "        vertical-align: middle;\n",
       "    }\n",
       "\n",
       "    .dataframe tbody tr th {\n",
       "        vertical-align: top;\n",
       "    }\n",
       "\n",
       "    .dataframe thead th {\n",
       "        text-align: right;\n",
       "    }\n",
       "</style>\n",
       "<table border=\"1\" class=\"dataframe\">\n",
       "  <thead>\n",
       "    <tr style=\"text-align: right;\">\n",
       "      <th></th>\n",
       "      <th>S&amp;P 500</th>\n",
       "      <th>NASDAQ</th>\n",
       "      <th>Dow Jones</th>\n",
       "      <th>Nikkei</th>\n",
       "    </tr>\n",
       "    <tr>\n",
       "      <th>Date</th>\n",
       "      <th></th>\n",
       "      <th></th>\n",
       "      <th></th>\n",
       "      <th></th>\n",
       "    </tr>\n",
       "  </thead>\n",
       "  <tbody>\n",
       "    <tr>\n",
       "      <th>1928</th>\n",
       "      <td>3.7e-01</td>\n",
       "      <td>NaN</td>\n",
       "      <td>NaN</td>\n",
       "      <td>NaN</td>\n",
       "    </tr>\n",
       "    <tr>\n",
       "      <th>1929</th>\n",
       "      <td>-1.4e-01</td>\n",
       "      <td>NaN</td>\n",
       "      <td>NaN</td>\n",
       "      <td>NaN</td>\n",
       "    </tr>\n",
       "    <tr>\n",
       "      <th>1930</th>\n",
       "      <td>-2.8e-01</td>\n",
       "      <td>NaN</td>\n",
       "      <td>NaN</td>\n",
       "      <td>NaN</td>\n",
       "    </tr>\n",
       "    <tr>\n",
       "      <th>1931</th>\n",
       "      <td>-4.9e-01</td>\n",
       "      <td>NaN</td>\n",
       "      <td>NaN</td>\n",
       "      <td>NaN</td>\n",
       "    </tr>\n",
       "    <tr>\n",
       "      <th>1932</th>\n",
       "      <td>-8.5e-02</td>\n",
       "      <td>NaN</td>\n",
       "      <td>NaN</td>\n",
       "      <td>NaN</td>\n",
       "    </tr>\n",
       "    <tr>\n",
       "      <th>...</th>\n",
       "      <td>...</td>\n",
       "      <td>...</td>\n",
       "      <td>...</td>\n",
       "      <td>...</td>\n",
       "    </tr>\n",
       "    <tr>\n",
       "      <th>2016</th>\n",
       "      <td>1.1e-01</td>\n",
       "      <td>9.8e-02</td>\n",
       "      <td>1.5e-01</td>\n",
       "      <td>3.6e-02</td>\n",
       "    </tr>\n",
       "    <tr>\n",
       "      <th>2017</th>\n",
       "      <td>1.8e-01</td>\n",
       "      <td>2.7e-01</td>\n",
       "      <td>2.4e-01</td>\n",
       "      <td>1.6e-01</td>\n",
       "    </tr>\n",
       "    <tr>\n",
       "      <th>2018</th>\n",
       "      <td>-7.0e-02</td>\n",
       "      <td>-5.3e-02</td>\n",
       "      <td>-6.0e-02</td>\n",
       "      <td>-1.5e-01</td>\n",
       "    </tr>\n",
       "    <tr>\n",
       "      <th>2019</th>\n",
       "      <td>2.9e-01</td>\n",
       "      <td>3.5e-01</td>\n",
       "      <td>2.2e-01</td>\n",
       "      <td>2.1e-01</td>\n",
       "    </tr>\n",
       "    <tr>\n",
       "      <th>2020</th>\n",
       "      <td>6.9e-02</td>\n",
       "      <td>2.8e-01</td>\n",
       "      <td>-9.1e-03</td>\n",
       "      <td>8.9e-03</td>\n",
       "    </tr>\n",
       "  </tbody>\n",
       "</table>\n",
       "<p>93 rows × 4 columns</p>\n",
       "</div>"
      ],
      "text/plain": [
       "      S&P 500   NASDAQ  Dow Jones   Nikkei\n",
       "Date                                      \n",
       "1928  3.7e-01      NaN        NaN      NaN\n",
       "1929 -1.4e-01      NaN        NaN      NaN\n",
       "1930 -2.8e-01      NaN        NaN      NaN\n",
       "1931 -4.9e-01      NaN        NaN      NaN\n",
       "1932 -8.5e-02      NaN        NaN      NaN\n",
       "...       ...      ...        ...      ...\n",
       "2016  1.1e-01  9.8e-02    1.5e-01  3.6e-02\n",
       "2017  1.8e-01  2.7e-01    2.4e-01  1.6e-01\n",
       "2018 -7.0e-02 -5.3e-02   -6.0e-02 -1.5e-01\n",
       "2019  2.9e-01  3.5e-01    2.2e-01  2.1e-01\n",
       "2020  6.9e-02  2.8e-01   -9.1e-03  8.9e-03\n",
       "\n",
       "[93 rows x 4 columns]"
      ]
     },
     "execution_count": 43,
     "metadata": {},
     "output_type": "execute_result"
    }
   ],
   "source": [
    "yearly_returns = pd.DataFrame()\n",
    "\n",
    "for index, name in indices_list.items():\n",
    "    p1 = indices_data.groupby(indices_data.index.year)[index].first()  # Get the first set of returns as a DataFrame\n",
    "    p2 = indices_data.groupby(indices_data.index.year)[index].last()   # Get the last set of returns as a DataFrame\n",
    "    returns = (p2 - p1) / p1\n",
    "    yearly_returns[name] = returns\n",
    "\n",
    "yearly_returns"
   ]
  },
  {
   "cell_type": "markdown",
   "metadata": {},
   "source": [
    "Next, you can obtain summary statistics by using the method `describe`."
   ]
  },
  {
   "cell_type": "code",
   "execution_count": 44,
   "metadata": {},
   "outputs": [
    {
     "data": {
      "text/html": [
       "<div>\n",
       "<style scoped>\n",
       "    .dataframe tbody tr th:only-of-type {\n",
       "        vertical-align: middle;\n",
       "    }\n",
       "\n",
       "    .dataframe tbody tr th {\n",
       "        vertical-align: top;\n",
       "    }\n",
       "\n",
       "    .dataframe thead th {\n",
       "        text-align: right;\n",
       "    }\n",
       "</style>\n",
       "<table border=\"1\" class=\"dataframe\">\n",
       "  <thead>\n",
       "    <tr style=\"text-align: right;\">\n",
       "      <th></th>\n",
       "      <th>S&amp;P 500</th>\n",
       "      <th>NASDAQ</th>\n",
       "      <th>Dow Jones</th>\n",
       "      <th>Nikkei</th>\n",
       "    </tr>\n",
       "  </thead>\n",
       "  <tbody>\n",
       "    <tr>\n",
       "      <th>count</th>\n",
       "      <td>9.3e+01</td>\n",
       "      <td>5.0e+01</td>\n",
       "      <td>3.6e+01</td>\n",
       "      <td>5.6e+01</td>\n",
       "    </tr>\n",
       "    <tr>\n",
       "      <th>mean</th>\n",
       "      <td>7.5e-02</td>\n",
       "      <td>1.3e-01</td>\n",
       "      <td>9.5e-02</td>\n",
       "      <td>7.7e-02</td>\n",
       "    </tr>\n",
       "    <tr>\n",
       "      <th>std</th>\n",
       "      <td>1.9e-01</td>\n",
       "      <td>2.5e-01</td>\n",
       "      <td>1.4e-01</td>\n",
       "      <td>2.4e-01</td>\n",
       "    </tr>\n",
       "    <tr>\n",
       "      <th>min</th>\n",
       "      <td>-4.9e-01</td>\n",
       "      <td>-4.0e-01</td>\n",
       "      <td>-3.3e-01</td>\n",
       "      <td>-4.0e-01</td>\n",
       "    </tr>\n",
       "    <tr>\n",
       "      <th>25%</th>\n",
       "      <td>-6.0e-02</td>\n",
       "      <td>-1.2e-02</td>\n",
       "      <td>4.2e-03</td>\n",
       "      <td>-8.1e-02</td>\n",
       "    </tr>\n",
       "    <tr>\n",
       "      <th>50%</th>\n",
       "      <td>9.9e-02</td>\n",
       "      <td>1.4e-01</td>\n",
       "      <td>8.9e-02</td>\n",
       "      <td>7.5e-02</td>\n",
       "    </tr>\n",
       "    <tr>\n",
       "      <th>75%</th>\n",
       "      <td>2.0e-01</td>\n",
       "      <td>2.8e-01</td>\n",
       "      <td>2.2e-01</td>\n",
       "      <td>2.1e-01</td>\n",
       "    </tr>\n",
       "    <tr>\n",
       "      <th>max</th>\n",
       "      <td>4.6e-01</td>\n",
       "      <td>8.4e-01</td>\n",
       "      <td>3.3e-01</td>\n",
       "      <td>9.2e-01</td>\n",
       "    </tr>\n",
       "  </tbody>\n",
       "</table>\n",
       "</div>"
      ],
      "text/plain": [
       "       S&P 500   NASDAQ  Dow Jones   Nikkei\n",
       "count  9.3e+01  5.0e+01    3.6e+01  5.6e+01\n",
       "mean   7.5e-02  1.3e-01    9.5e-02  7.7e-02\n",
       "std    1.9e-01  2.5e-01    1.4e-01  2.4e-01\n",
       "min   -4.9e-01 -4.0e-01   -3.3e-01 -4.0e-01\n",
       "25%   -6.0e-02 -1.2e-02    4.2e-03 -8.1e-02\n",
       "50%    9.9e-02  1.4e-01    8.9e-02  7.5e-02\n",
       "75%    2.0e-01  2.8e-01    2.2e-01  2.1e-01\n",
       "max    4.6e-01  8.4e-01    3.3e-01  9.2e-01"
      ]
     },
     "execution_count": 44,
     "metadata": {},
     "output_type": "execute_result"
    }
   ],
   "source": [
    "yearly_returns.describe()"
   ]
  },
  {
   "cell_type": "markdown",
   "metadata": {},
   "source": [
    "Then, to plot the chart"
   ]
  },
  {
   "cell_type": "code",
   "execution_count": 45,
   "metadata": {},
   "outputs": [
    {
     "data": {
      "image/png": "[encoded data removed]",
      "text/plain": [
       "<Figure size 720x432 with 4 Axes>"
      ]
     },
     "metadata": {
      "filenames": {
       "image/png": "/home/runner/work/lecture-python-programming.myst/lecture-python-programming.myst/_build/jupyter_execute/pandas_81_0.png"
      },
      "needs_background": "light"
     },
     "output_type": "display_data"
    }
   ],
   "source": [
    "fig, axes = plt.subplots(2, 2, figsize=(10, 6))\n",
    "\n",
    "for iter_, ax in enumerate(axes.flatten()):            # Flatten 2-D array to 1-D array\n",
    "    index_name = yearly_returns.columns[iter_]         # Get index name per iteration\n",
    "    ax.plot(yearly_returns[index_name])                # Plot pct change of yearly returns per index\n",
    "    ax.set_ylabel(\"percent change\", fontsize = 12)\n",
    "    ax.set_title(index_name)\n",
    "\n",
    "plt.tight_layout()"
   ]
  },
  {
   "cell_type": "markdown",
   "metadata": {},
   "source": [
    "[^mung]: Wikipedia defines munging as cleaning data from one raw form into a structured, purged one."
   ]
  }
 ],
 "metadata": {
  "jupytext": {
   "text_representation": {
    "extension": ".md",
    "format_name": "myst"
   }
  },
  "kernelspec": {
   "display_name": "Python 3",
   "language": "python",
   "name": "python3"
  },
  "language_info": {
   "codemirror_mode": {
    "name": "ipython",
    "version": 3
   },
   "file_extension": ".py",
   "mimetype": "text/x-python",
   "name": "python",
   "nbconvert_exporter": "python",
   "pygments_lexer": "ipython3",
   "version": "3.8.3"
  },
  "source_map": [
   10,
   32,
   37,
   70,
   77,
   92,
   95,
   103,
   107,
   109,
   115,
   117,
   121,
   124,
   132,
   136,
   141,
   143,
   182,
   187,
   189,
   193,
   195,
   199,
   201,
   205,
   207,
   211,
   213,
   219,
   222,
   228,
   231,
   235,
   238,
   242,
   245,
   249,
   252,
   258,
   263,
   267,
   270,
   274,
   279,
   318,
   320,
   336,
   342,
   346,
   348,
   356,
   358,
   362,
   366,
   370,
   373,
   377,
   382,
   406,
   416,
   427,
   430,
   434,
   448,
   452,
   470,
   483,
   488,
   505,
   510,
   515,
   519,
   523,
   531,
   537,
   543,
   547,
   557,
   561,
   563,
   567,
   577
  ]
 },
 "nbformat": 4,
 "nbformat_minor": 4
}